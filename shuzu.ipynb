{
 "cells": [
  {
   "cell_type": "markdown",
   "metadata": {},
   "source": [
    "1.创建一维数组，和二维数组，打印维度、形状、数量、类型"
   ]
  },
  {
   "cell_type": "code",
   "execution_count": null,
   "metadata": {},
   "outputs": [
    {
     "name": "stdout",
     "output_type": "stream",
     "text": [
      "[ 6 -2 -7  2  8 -2  1]\n",
      "[[1 3 5]\n",
      " [2 4 6]]\n",
      "维度是\n",
      " 1\n",
      "2\n",
      "形状是：\n",
      " (7,)\n",
      "(2, 3)\n",
      "数量是\n",
      " 7\n",
      "6\n",
      "类型是\n",
      " int32\n"
     ]
    }
   ],
   "source": [
    "impo\"$\"$1\"\"t numpy as np\n",
    "arr1 = np.array([6,-2,-7,2,8,-2,1])\n",
    "arr2 = np.array([[1,3,5],[2,4,6]])\n",
    "print(arr1)\n",
    "print(arr2)\n",
    "\n",
    "print(\"维度是,n\",arr1.ndim)\n",
    "print(arr2.ndim)\n",
    "\n",
    "print(\"形状是：,n\",np.shape(arr1))\n",
    "print(arr2.shape)\n",
    "\n",
    "print(\"数量是,n\",arr1.size)\n",
    "print(arr2.size)\n",
    "\n",
    "print(\"类型是,n\",arr2.dtype)"
   ]
  },
  {
   "cell_type": "markdown",
   "metadata": {},
   "source": [
    "2.分别创建1个6个0和6个1的一维数组，创建一个10-20的偶数数组"
   ]
  },
  {
   "cell_type": "code",
   "execution_count": null,
   "metadata": {},
   "outputs": [
    {
     "name": "stdout",
     "output_type": "stream",
     "text": [
      "[0 0 0 0 0 0] \n",
      " [1 1 1 1 1 1] \n",
      " [10 12 14 16 18 20]\n"
     ]
    }
   ],
   "source": [
    "arr_zero =np.array([0]*6)\n",
    "arr_ones = np.array([1]*6)\n",
    "arr_oushu = np.array(list(range(10,21,2)))\n",
    "\n",
    "print(arr_zero,\",n\",arr_ones,\",n\",arr_oushu)"
   ]
  },
  {
   "cell_type": "markdown",
   "metadata": {},
   "source": [
    "3.创建一个数组3,arr3，包括上面的数字，并对其排序"
   ]
  },
  {
   "cell_type": "code",
   "execution_count": null,
   "metadata": {},
   "outputs": [
    {
     "name": "stdout",
     "output_type": "stream",
     "text": [
      "[ 6 -2 -7  2  8 -2  1 10 12 14 16 18 20]\n",
      "[-7 -2 -2  1  2  6  8 10 12 14 16 18 20]\n",
      "-2\n",
      "-2\n",
      "[ 6 11]\n"
     ]
    }
   ],
   "source": [
    "arr3 = np.concatenate([arr1,arr_oushu])\n",
    "print(arr3)\n",
    "arr3 =np.sort(arr3)\n",
    "print(arr3)\n",
    "\n",
    "print(arr3[2])\n",
    "print(arr3[-12])\n",
    "print(arr3[2:4]+arr3[6:8])"
   ]
  },
  {
   "cell_type": "markdown",
   "metadata": {},
   "source": [
    "4.打印arr3的最大值，最小值，和，平均值\n",
    "筛选出数组中大于2小于16的值"
   ]
  },
  {
   "cell_type": "code",
   "execution_count": null,
   "metadata": {},
   "outputs": [
    {
     "name": "stdout",
     "output_type": "stream",
     "text": [
      "20 \n",
      " -7 \n",
      " 96 \n",
      " 7.384615384615385\n",
      "[ 6  8 10 12 14]\n"
     ]
    }
   ],
   "source": [
    "print(arr3.max(),\",n\",arr3.min(),\",n\",arr3.sum(),\",n\",arr3.mean())\n",
    "a = arr3>2\n",
    "b = arr3<16\n",
    "print(arr3[a&b])"
   ]
  },
  {
   "cell_type": "markdown",
   "metadata": {},
   "source": [
    "# Pandas"
   ]
  },
  {
   "cell_type": "markdown",
   "metadata": {},
   "source": [
    "创建一个s1的series，包含-1.2,3.7,2.5,-8.2,6.3 ,打印索引及数值，创建s2,索引1-5，数值5-1"
   ]
  },
  {
   "cell_type": "code",
   "execution_count": null,
   "metadata": {},
   "outputs": [
    {
     "name": "stdout",
     "output_type": "stream",
     "text": [
      "RangeIndex(start=0, stop=5, step=1) \n",
      " [-1.2  3.7  2.5 -8.2  6.3]\n",
      "1    5\n",
      "2    4\n",
      "3    3\n",
      "4    2\n",
      "5    1\n",
      "dtype: int32\n",
      "位置索引第二个元素 4\n",
      "index = 2的数值 4\n",
      "Index([1, 2, 3, 4, 5], dtype='int32') [5 4 3 2 1]\n"
     ]
    }
   ],
   "source": [
    "import pandas as pd\n",
    "s1=pd.Series([-1.2,3.7,2.5,-8.2,6.3])\n",
    "print(s1.index,\"\\n\",s1.values)\n",
    "s2 = pd.Series(np.arange(5,0,-1),index = np.arange(1,6))\n",
    "print(s2)\n",
    "print('位置索引第二个元素',s2.iloc[1])\n",
    "print(\"index = 2的数值\",s2[2])\n",
    "print(s2.index,s2.values)\n"
   ]
  },
  {
   "cell_type": "markdown",
   "metadata": {},
   "source": [
    "标签对应5-3的元素"
   ]
  },
  {
   "cell_type": "code",
   "execution_count": null,
   "metadata": {},
   "outputs": [
    {
     "name": "stdout",
     "output_type": "stream",
     "text": [
      "5    1\n",
      "4    2\n",
      "3    3\n",
      "dtype: int32\n"
     ]
    }
   ],
   "source": [
    "print(s2.loc[5:3:-1])"
   ]
  },
  {
   "cell_type": "markdown",
   "metadata": {},
   "source": [
    "创建一个字典s3，a,b,c,d,e,对应82,93,91,78,68\n",
    "把b改为95\n",
    "输出>80且<90的元素"
   ]
  },
  {
   "cell_type": "code",
   "execution_count": 85,
   "metadata": {},
   "outputs": [
    {
     "name": "stdout",
     "output_type": "stream",
     "text": [
      "Index(['a', 'b', 'c', 'd', 'e'], dtype='object') [82 93 91 78 68]\n",
      "a    82\n",
      "d    78\n",
      "e    68\n",
      "dtype: int64\n"
     ]
    }
   ],
   "source": [
    "a1 = [\"a\",\"b\",\"c\",\"d\",\"e\"]\n",
    "a2 = [82,93,91,78,68]\n",
    "a3 = dict(zip(a1,a2))\n",
    "s3 = pd.Series(a3)\n",
    "print(s3.index,s3.values)\n",
    "s3[\"b\"] = 95\n",
    "print(s3.iloc[(s3.values>0) & (s3.values<90)])"
   ]
  }
 ],
 "metadata": {
  "kernelspec": {
   "display_name": "Python 3",
   "language": "python",
   "name": "python3"
  },
  "language_info": {
   "codemirror_mode": {
    "name": "ipython",
    "version": 3
   },
   "file_extension": ".py",
   "mimetype": "text/x-python",
   "name": "python",
   "nbconvert_exporter": "python",
   "pygments_lexer": "ipython3",
   "version": "3.9.7"
  }
 },
 "nbformat": 4,
 "nbformat_minor": 2
}
