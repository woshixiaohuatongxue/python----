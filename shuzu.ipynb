{
 "cells": [
  {
   "cell_type": "markdown",
   "metadata": {},
   "source": [
    "1.创建一维数组，和二维数组，打印维度、形状、数量、类型"
   ]
  },
  {
   "cell_type": "markdown",
   "metadata": {},
   "source": [
    "impo\"$\"$1\"\"t numpy as np\n",
    "arr1 = np.array([6,-2,-7,2,8,-2,1])\n",
    "arr2 = np.array([[1,3,5],[2,4,6]])\n",
    "print(arr1)\n",
    "print(arr2)\n",
    "\n",
    "print(\"维度是,n\",arr1.ndim)\n",
    "print(arr2.ndim)\n",
    "\n",
    "print(\"形状是：,n\",np.shape(arr1))\n",
    "print(arr2.shape)\n",
    "\n",
    "print(\"数量是,n\",arr1.size)\n",
    "print(arr2.size)\n",
    "\n",
    "print(\"类型是,n\",arr2.dtype)"
   ]
  },
  {
   "cell_type": "code",
   "execution_count": null,
   "metadata": {},
   "outputs": [
    {
     "name": "stdout",
     "output_type": "stream",
     "text": [
      "[ 6 -2 -7  2  8 -2  1]\n",
      "[[1 3 5]\n",
      " [2 4 6]]\n",
      "维度是\n",
      " 1\n",
      "2\n",
      "形状是：\n",
      " (7,)\n",
      "(2, 3)\n",
      "数量是\n",
      " 7\n",
      "6\n",
      "类型是\n",
      " int32\n"
     ]
    }
   ],
   "source": [
    "import numpy as np\n",
    "arr1 = np.array([6,-2,-7,2,8,-2,1])\n",
    "arr2 = np.array([[1,3,5],[2,4,6]])\n",
    "print(arr1)\n",
    "print(arr2)\n",
    "\n",
    "print(\"维度是,n\",arr1.ndim)\n",
    "print(arr2.ndim)\n",
    "\n",
    "print(\"形状是：,n\",np.shape(arr1))\n",
    "print(arr2.shape)\n",
    "\n",
    "print(\"数量是,n\",arr1.size)\n",
    "print(arr2.size)\n",
    "\n",
    "print(\"类型是,n\",arr2.dtype)"
   ]
  },
  {
   "cell_type": "markdown",
   "metadata": {},
   "source": [
    "arr_zero =np.array([0]*6)\n",
    "arr_ones = np.array([1]*6)\n",
    "arr_oushu = np.array(list(range(10,21,2)))\n",
    "\n",
    "print(arr_zero,\",n\",arr_ones,\",n\",arr_oushu)"
   ]
  },
  {
   "cell_type": "code",
   "execution_count": null,
   "metadata": {},
   "outputs": [
    {
     "name": "stdout",
     "output_type": "stream",
     "text": [
      "[0 0 0 0 0 0] \n",
      " [1 1 1 1 1 1] \n",
      " [10 12 14 16 18 20]\n"
     ]
    }
   ],
   "source": [
    "3.创建一个数组3,arr3，包括上面的数字，并对其排序"
   ]
  },
  {
   "cell_type": "markdown",
   "metadata": {},
   "source": [
    "arr3 = np.concatenate([arr1,arr_oushu])\n",
    "print(arr3)\n",
    "arr3 =np.sort(arr3)\n",
    "print(arr3)\n",
    "\n",
    "print(arr3[2])\n",
    "print(arr3[-12])\n",
    "print(arr3[2:4]+arr3[6:8])"
   ]
  },
  {
   "cell_type": "code",
   "execution_count": null,
   "metadata": {},
   "outputs": [
    {
     "name": "stdout",
     "output_type": "stream",
     "text": [
      "[ 6 -2 -7  2  8 -2  1 10 12 14 16 18 20]\n",
      "[-7 -2 -2  1  2  6  8 10 12 14 16 18 20]\n",
      "-2\n",
      "-2\n",
      "[ 6 11]\n"
     ]
    }
   ],
   "source": [
    "arr3 = np.concatenate([arr1,arr_oushu])\n",
    "print(arr3)\n",
    "arr3 =np.sort(arr3)\n",
    "print(arr3)\n",
    "\n",
    "print(arr3[2])\n",
    "print(arr3[-12])\n",
    "print(arr3[2:4]+arr3[6:8])"
   ]
  },
  {
   "cell_type": "markdown",
   "metadata": {},
   "source": [
    "4.打印arr3的最大值,最小值，和，平均值\n",
    "筛选出数组中大于2小于16的值"
   ]
  },
  {
   "cell_type": "code",
   "execution_count": null,
   "metadata": {},
   "outputs": [
    {
     "name": "stdout",
     "output_type": "stream",
     "text": [
      "20 \n",
      " -7 \n",
      " 96 \n",
      " 7.384615384615385\n",
      "[ 6  8 10 12 14]\n"
     ]
    }
   ],
   "source": [
    "print(arr3.max(),\",n\",arr3.min(),\",n\",arr3.sum(),\",n\",arr3.mean())\n",
    "a = arr3>2\n",
    "b = arr3<16\n",
    "print(arr3[a&b])"
   ]
  },
  {
   "cell_type": "markdown",
   "metadata": {},
   "source": [
    "# Pandas"
   ]
  },
  {
   "cell_type": "markdown",
   "metadata": {},
   "source": [
    "## pandas series"
   ]
  },
  {
   "cell_type": "markdown",
   "metadata": {},
   "source": [
    "\n",
    "创建一个s1的series，包含-1.2,3.7,2.5,-8.2,6.3 ,打印索引及数值,创建s2,索引1-5,数值5-1"
   ]
  },
  {
   "cell_type": "code",
   "execution_count": null,
   "metadata": {},
   "outputs": [
    {
     "name": "stdout",
     "output_type": "stream",
     "text": [
      "RangeIndex(start=0, stop=5, step=1) \n",
      " [-1.2  3.7  2.5 -8.2  6.3]\n",
      "1    5\n",
      "2    4\n",
      "3    3\n",
      "4    2\n",
      "5    1\n",
      "dtype: int32\n",
      "位置索引第二个元素 4\n",
      "index = 2的数值 4\n",
      "Index([1, 2, 3, 4, 5], dtype='int32') [5 4 3 2 1]\n"
     ]
    }
   ],
   "source": [
    "import pandas as pd\n",
    "s1=pd.Series([-1.2,3.7,2.5,-8.2,6.3])\n",
    "print(s1.index,\"\\n\",s1.values)\n",
    "s2 = pd.Series(np.arange(5,0,-1),index = np.arange(1,6))\n",
    "print(s2)\n",
    "print('位置索引第二个元素',s2.iloc[1])\n",
    "print(\"index = 2的数值\",s2[2])\n",
    "print(s2.index,s2.values)\n"
   ]
  },
  {
   "cell_type": "markdown",
   "metadata": {},
   "source": [
    "标签对应5-3的元素"
   ]
  },
  {
   "cell_type": "code",
   "execution_count": null,
   "metadata": {},
   "outputs": [
    {
     "name": "stdout",
     "output_type": "stream",
     "text": [
      "5    1\n",
      "4    2\n",
      "3    3\n",
      "dtype: int32\n"
     ]
    }
   ],
   "source": [
    "print(s2.loc[5:3:-1])"
   ]
  },
  {
   "cell_type": "markdown",
   "metadata": {},
   "source": [
    "创建一个字典s3,a,b,c,d,e,对应82,93,91,78,68\n",
    "把b改为95\n",
    "输出>80且<90的元素"
   ]
  },
  {
   "cell_type": "code",
   "execution_count": null,
   "metadata": {},
   "outputs": [],
   "source": [
    "a1 = [\"a\",\"b\",\"c\",\"d\",\"e\"]\n",
    "a2 = [82,93,91,78,68]\n",
    "a3 = dict(zip(a1,a2))\n",
    "s3 = pd.Series(a3)\n",
    "print(s3.index,s3.values)\n",
    "s3[\"b\"] = 95\n",
    "print(s3.iloc[(s3.values>0) & (s3.values<90)])"
   ]
  },
  {
   "cell_type": "markdown",
   "metadata": {},
   "source": [
    "## pandas apply"
   ]
  },
  {
   "cell_type": "markdown",
   "metadata": {},
   "source": [
    "创建一个s1,s2"
   ]
  },
  {
   "cell_type": "code",
   "execution_count": 3,
   "metadata": {},
   "outputs": [
    {
     "name": "stdout",
     "output_type": "stream",
     "text": [
      "小明    92\n",
      "小红    67\n",
      "小杰    70\n",
      "小丽    88\n",
      "小华    76\n",
      "dtype: int64 小明    95\n",
      "小杰    85\n",
      "小宇    60\n",
      "小娟    79\n",
      "小彤    76\n",
      "dtype: int64\n"
     ]
    }
   ],
   "source": [
    "import pandas as pd\n",
    "s1 = pd.Series([92,67,70,88,76],index=[\"小明\",'小红','小杰','小丽','小华'])\n",
    "s2 = pd.Series([95,85,60,79,76],index = ['小明','小杰','小宇','小娟','小彤'])\n",
    "print(s1,s2)\n"
   ]
  },
  {
   "cell_type": "markdown",
   "metadata": {},
   "source": [
    "按照索引相加,无法找的值用0代替\n",
    "输出s1的,最大值,最小值,平均值,标准差"
   ]
  },
  {
   "cell_type": "code",
   "execution_count": null,
   "metadata": {},
   "outputs": [
    {
     "name": "stdout",
     "output_type": "stream",
     "text": [
      "count     5.000000\n",
      "mean     78.600000\n",
      "std      10.990905\n",
      "min      67.000000\n",
      "25%      70.000000\n",
      "50%      76.000000\n",
      "75%      88.000000\n",
      "max      92.000000\n",
      "dtype: float64\n"
     ]
    }
   ],
   "source": [
    "s1.add(s2,fill_value=0)\n",
    "s1.max(),s1.min(),s1.mean(),s1.std()\n",
    "print(s1.describe())"
   ]
  },
  {
   "cell_type": "markdown",
   "metadata": {},
   "source": [
    "s1的成绩+5,然后把成绩转化为等级"
   ]
  },
  {
   "cell_type": "code",
   "execution_count": null,
   "metadata": {},
   "outputs": [
    {
     "name": "stdout",
     "output_type": "stream",
     "text": [
      "小明    97\n",
      "小红    72\n",
      "小杰    75\n",
      "小丽    93\n",
      "小华    81\n",
      "dtype: int64\n",
      "小明    A\n",
      "小红    B\n",
      "小杰    B\n",
      "小丽    A\n",
      "小华    B\n",
      "dtype: object\n"
     ]
    }
   ],
   "source": [
    "s1=s1+5\n",
    "print(s1)\n",
    "def grad_to(score):\n",
    "    if score>90:\n",
    "        return \"A\"\n",
    "    elif score>60:\n",
    "        return 'B'\n",
    "    else:\n",
    "        return'C'\n",
    "print(s1.apply(grad_to))"
   ]
  },
  {
   "cell_type": "markdown",
   "metadata": {},
   "source": [
    "## pandas dateframe"
   ]
  },
  {
   "cell_type": "markdown",
   "metadata": {},
   "source": [
    "### 查看"
   ]
  },
  {
   "cell_type": "code",
   "execution_count": 16,
   "metadata": {},
   "outputs": [
    {
     "name": "stdout",
     "output_type": "stream",
     "text": [
      "    性别     身高  姓名\n",
      "001  男  172.5  小陈\n",
      "002  女  168.0  小李\n",
      "003  男  178.2  小王\n",
      "004  男  181.3  小张\n",
      "005  女  161.7  小赵\n",
      "006  女    NaN  小周\n",
      "Index(['001', '002', '003', '004', '005', '006'], dtype='object') Index(['性别', '身高', '姓名'], dtype='object')\n",
      "      001    002    003    004    005  006\n",
      "性别      男      女      男      男      女    女\n",
      "身高  172.5  168.0  178.2  181.3  161.7  NaN\n",
      "姓名     小陈     小李     小王     小张     小赵   小周\n",
      "001    172.5\n",
      "002    168.0\n",
      "003    178.2\n",
      "004    181.3\n",
      "005    161.7\n",
      "006      NaN\n",
      "Name: 身高, dtype: float64\n",
      "        身高 性别\n",
      "001  172.5  男\n",
      "002  168.0  女\n",
      "003  178.2  男\n",
      "004  181.3  男\n",
      "005  161.7  女\n",
      "006    NaN  女\n",
      "性别        男\n",
      "身高    178.2\n",
      "姓名       小王\n",
      "Name: 003, dtype: object\n"
     ]
    }
   ],
   "source": [
    "import pandas as pd\n",
    "name = pd.Series([\"小陈\",\"小李\",\"小王\",\"小张\",\"小赵\",\"小周\"],index =['001','002','003','004','005','006'] )\n",
    "gender = pd.Series([\"女\",\"女\",\"男\",\"男\",\"女\",\"男\"],index = ['006','005','004','003','002','001'])\n",
    "height = pd.Series([172.5, 168.0, 178.2, 181.3, 161.7],index = [\"001\", \"002\", \"003\", \"004\", \"005\"])\n",
    "\n",
    "students = pd.DataFrame({\"性别\":gender,\"身高\":height,'姓名':name})\n",
    "print(students)\n",
    "print(students.index,students.columns) #打印列名\n",
    "print(students.T) #转置\n",
    "print(students['身高'])\n",
    "print(students[['身高','性别']])\n"
   ]
  },
  {
   "cell_type": "code",
   "execution_count": 41,
   "metadata": {},
   "outputs": [
    {
     "name": "stdout",
     "output_type": "stream",
     "text": [
      "性别        男\n",
      "身高    178.2\n",
      "姓名       小王\n",
      "Name: 003, dtype: object\n",
      "161.7\n",
      "     姓名     身高\n",
      "003  小王  178.2\n",
      "005  小赵  161.7\n",
      "    性别     身高  姓名\n",
      "003  男  178.2  小王\n",
      "005  女  161.7  小赵\n",
      "    性别     身高  姓名\n",
      "002  女  168.0  小李\n",
      "005  女  161.7  小赵\n",
      "    性别     身高  姓名\n",
      "001  男  172.5  小陈\n",
      "002  女  168.0  小李\n",
      "003  男  178.2  小王\n",
      "004  男  181.3  小张\n",
      "005  女  161.7  小赵\n"
     ]
    }
   ],
   "source": [
    "print(students.loc['003'])\n",
    "print(students['身高'].loc[\"005\"])\n",
    "print(students[['姓名','身高']].loc[['003','005'],:])\n",
    "print(students.loc[['003','005']])\n",
    "print(students[(students['身高']>160) &(students['性别']=='女')])\n",
    "print(students.iloc[0:5,:])\n"
   ]
  },
  {
   "cell_type": "markdown",
   "metadata": {},
   "source": [
    "### 操作"
   ]
  },
  {
   "cell_type": "markdown",
   "metadata": {},
   "source": [
    "创建一个名为students的DataFrame，包含数据如下：\n",
    "{\"001\": {\"姓名\": \"小陈\", \"考试1\": 85, \"考试2\": 95, \"考试3\": 92},\n",
    " \"002\": {\"姓名\": \"小李\", \"考试1\": 91, \"考试2\": 92, \"考试3\": 94},\n",
    " \"003\": {\"姓名\": \"小王\", \"考试1\": 86, \"考试2\": 81, \"考试3\": 89},\n",
    " \"004\": {\"姓名\": \"小张\", \"考试1\": 79, \"考试2\": 89, \"考试3\": 95},\n",
    " \"005\": {\"姓名\": \"小赵\", \"考试1\": 96, \"考试2\": 91, \"考试3\": 91},\n",
    " \"006\": {\"姓名\": \"小周\", \"考试1\": 81, \"考试2\": 89, \"考试3\": 92} }\n",
    " 1.给students增加一列考试4，数据依次为：[72, 69, 79, 83, 82, 76]\n",
    " 2.给students添加一行，索引为007，数据为：\"小杨\", 79, 82, 81, 69\n",
    " 3.输出students删除索引为006、007的结果，但不要改变students本身。\n",
    " 4.输出students删除列名为“考试2”、“考试4”的结果，但不要改变students本身\n",
    " 5.创建一个Seriesbonus，包含的值和值对应的索引分别为：{\"考试1\": 2, \"考试2\": 3, \"考试3\": 2, \"考试4\": 5}。输出这个Series与students里所有分数列相加后的结果，但不用更新students。\n",
    " 6.更新students的考试4，让每项数据值增加10，并输出更新后的结果。"
   ]
  },
  {
   "cell_type": "code",
   "execution_count": 58,
   "metadata": {},
   "outputs": [
    {
     "name": "stdout",
     "output_type": "stream",
     "text": [
      "     姓名 考试1 考试2 考试3  考试4\n",
      "001  小陈  85  95  92   72\n",
      "002  小李  91  92  94   69\n",
      "003  小王  86  81  89   79\n",
      "004  小张  79  89  95   83\n",
      "005  小赵  96  91  91   82\n",
      "     姓名 考试3  考试4\n",
      "001  小陈  92   72\n",
      "002  小李  94   69\n",
      "003  小王  89   79\n",
      "004  小张  95   83\n",
      "005  小赵  91   82\n",
      "006  小周  92   76\n",
      "007  小杨  81   69\n",
      "      姓名   考试1   考试2   考试3   考试4\n",
      "001  NaN  87.0  98.0  94.0  77.0\n",
      "002  NaN  93.0  95.0  96.0  74.0\n",
      "003  NaN  88.0  84.0  91.0  84.0\n",
      "004  NaN  81.0  92.0  97.0  88.0\n",
      "005  NaN  98.0  94.0  93.0  87.0\n",
      "006  NaN  83.0  92.0  94.0  81.0\n",
      "007  NaN  81.0  85.0  83.0  74.0\n",
      "     姓名 考试1 考试2 考试3  考试4\n",
      "001  小陈  85  95  92   82\n",
      "002  小李  91  92  94   79\n",
      "003  小王  86  81  89   89\n",
      "004  小张  79  89  95   93\n",
      "005  小赵  96  91  91   92\n",
      "006  小周  81  89  92   86\n",
      "007  小杨  79  82  81   79\n"
     ]
    }
   ],
   "source": [
    "import pandas as pd\n",
    "\n",
    "df1 = pd.DataFrame({\"001\": {\"姓名\": \"小陈\", \"考试1\": 85, \"考试2\": 95, \"考试3\": 92},\n",
    " \"002\": {\"姓名\": \"小李\", \"考试1\": 91, \"考试2\": 92, \"考试3\": 94},\n",
    " \"003\": {\"姓名\": \"小王\", \"考试1\": 86, \"考试2\": 81, \"考试3\": 89},\n",
    " \"004\": {\"姓名\": \"小张\", \"考试1\": 79, \"考试2\": 89, \"考试3\": 95},\n",
    " \"005\": {\"姓名\": \"小赵\", \"考试1\": 96, \"考试2\": 91, \"考试3\": 91},\n",
    " \"006\": {\"姓名\": \"小周\", \"考试1\": 81, \"考试2\": 89, \"考试3\": 92} })\n",
    "df1 = df1.T\n",
    "# print(df1)\n",
    "df1.loc[:,['考试4']] = [72, 69, 79, 83, 82, 76]\n",
    "# print(df1)\n",
    "df1.loc['007'] =[\"小杨\", 79, 82, 81, 69]\n",
    "# print(df1)\n",
    "print(df1.drop(['006','007']))\n",
    "print(df1.drop(['考试1','考试2'],axis=1))\n",
    "s1 = pd.Series({\"考试1\": 2, \"考试2\": 3, \"考试3\": 2, \"考试4\": 5})\n",
    "print(s1+df1)\n",
    "df1.loc[:,'考试4'] = df1.loc[:,'考试4']+10\n",
    "print(df1)\n",
    "\n"
   ]
  },
  {
   "cell_type": "markdown",
   "metadata": {},
   "source": [
    "### 函数赋值"
   ]
  },
  {
   "cell_type": "markdown",
   "metadata": {},
   "source": [
    "创建一个名为students的DataFrame，包含数据如下：\n",
    "{\"001\": {\"姓名\": \"小陈\", \"考试1\": 85, \"考试2\": 95, \"考试3\": 92},\n",
    " \"002\": {\"姓名\": \"小李\", \"考试1\": 91, \"考试2\": 92, \"考试3\": 94},\n",
    " \"003\": {\"姓名\": \"小王\", \"考试1\": 86, \"考试2\": 81, \"考试3\": 89},\n",
    " \"004\": {\"姓名\": \"小张\", \"考试1\": 79, \"考试2\": 89, \"考试3\": 95},\n",
    " \"005\": {\"姓名\": \"小赵\", \"考试1\": 96, \"考试2\": 91, \"考试3\": 91},\n",
    " \"006\": {\"姓名\": \"小周\", \"考试1\": 81, \"考试2\": 89, \"考试3\": 92}}\n",
    " 1.创建一个叫student_average的DataFrame，索引为学号，包含姓名列（列名为“姓名”），以及计算出3次考试平均值后的结果列（列名为“平均分”）。\n",
    " 2.输出每次考试第二高的分数组成的Series，可以尝试结合匿名函数。\n",
    " 3.根据以下规则，输出每个学号对应的四次考试的等级：\n",
    " A+：平均分 >= 95\n",
    "A：90 <= 平均分 < 95\n",
    "B+：85 <= 平均分 < 90\n",
    "B：80 <= 平均分 < 85\n",
    "C+：75 <= 平均分 < 80\n",
    "C：平均分 < 75\n",
    " 4.展示students每个考试分数数据列的统计信息，包括个数、平均值、标准差、四分位数等。\n",
    " "
   ]
  },
  {
   "cell_type": "code",
   "execution_count": null,
   "metadata": {},
   "outputs": [],
   "source": []
  },
  {
   "cell_type": "code",
   "execution_count": 129,
   "metadata": {},
   "outputs": [
    {
     "name": "stdout",
     "output_type": "stream",
     "text": [
      "     姓名 考试1 考试2 考试3\n",
      "001  小陈  85  95  92\n",
      "002  小李  91  92  94\n",
      "003  小王  86  81  89\n",
      "004  小张  79  89  95\n",
      "005  小赵  96  91  91\n",
      "     姓名        平均分\n",
      "001  小陈  90.666667\n",
      "002  小李  92.333333\n",
      "003  小王  85.333333\n",
      "004  小张  87.666667\n",
      "005  小赵  92.666667\n",
      "006  小周  87.333333\n",
      "考试1    91\n",
      "考试2    92\n",
      "考试3    94\n",
      "dtype: int64\n",
      "    考试1 考试2 考试3\n",
      "001   A   A   A\n",
      "002   A   A   A\n",
      "003   A   A   A\n",
      "004   B   A   A\n",
      "005   A   A   A\n"
     ]
    }
   ],
   "source": [
    "import pandas as pd \n",
    "import numpy as np\n",
    "\n",
    "students = pd.DataFrame({\"001\": {\"姓名\": \"小陈\", \"考试1\": 85, \"考试2\": 95, \"考试3\": 92},\n",
    " \"002\": {\"姓名\": \"小李\", \"考试1\": 91, \"考试2\": 92, \"考试3\": 94},\n",
    " \"003\": {\"姓名\": \"小王\", \"考试1\": 86, \"考试2\": 81, \"考试3\": 89},\n",
    " \"004\": {\"姓名\": \"小张\", \"考试1\": 79, \"考试2\": 89, \"考试3\": 95},\n",
    " \"005\": {\"姓名\": \"小赵\", \"考试1\": 96, \"考试2\": 91, \"考试3\": 91},\n",
    " \"006\": {\"姓名\": \"小周\", \"考试1\": 81, \"考试2\": 89, \"考试3\": 92}})\n",
    "students = students.T\n",
    "print(students.head())\n",
    "student_average = pd.DataFrame({'姓名':students['姓名'],\"平均分\":students.loc[:,'考试1':'考试3'].mean(axis = 1)})\n",
    "print(student_average)\n",
    "print(students.loc[:,'考试1':'考试3'].apply(lambda x:sorted(x)[-2],axis = 0))\n",
    "\n",
    "def fun_1(x):\n",
    "    if x<60:\n",
    "        return 'C'\n",
    "    elif x<80:\n",
    "        return 'B'\n",
    "    else:\n",
    "        return 'A'\n",
    "students_1 = students.loc[:,'考试1':'考试3'].map(fun_1)\n",
    "print(students_1.head())\n",
    "\n",
    "\n",
    "\n"
   ]
  },
  {
   "cell_type": "code",
   "execution_count": 135,
   "metadata": {},
   "outputs": [
    {
     "name": "stdout",
     "output_type": "stream",
     "text": [
      "<class 'pandas.core.frame.DataFrame'>\n",
      "Index: 6 entries, 001 to 006\n",
      "Data columns (total 4 columns):\n",
      " #   Column  Non-Null Count  Dtype \n",
      "---  ------  --------------  ----- \n",
      " 0   姓名      6 non-null      object\n",
      " 1   考试1     6 non-null      int32 \n",
      " 2   考试2     6 non-null      int32 \n",
      " 3   考试3     6 non-null      int32 \n",
      "dtypes: int32(3), object(1)\n",
      "memory usage: 340.0+ bytes\n",
      "             考试1        考试2        考试3\n",
      "count   6.000000   6.000000   6.000000\n",
      "mean   86.333333  89.500000  92.166667\n",
      "std     6.314006   4.722288   2.136976\n",
      "min    79.000000  81.000000  89.000000\n",
      "25%    82.000000  89.000000  91.250000\n",
      "50%    85.500000  90.000000  92.000000\n",
      "75%    89.750000  91.750000  93.500000\n",
      "max    96.000000  95.000000  95.000000\n"
     ]
    }
   ],
   "source": [
    "students['考试1'] = students['考试1'].astype('int')\n",
    "students['考试2'] = students['考试2'].astype('int')\n",
    "students['考试3'] = students['考试3'].astype('int')\n",
    "students.info()\n",
    "print(students.describe())"
   ]
  }
 ],
 "metadata": {
  "kernelspec": {
   "display_name": "Python 3",
   "language": "python",
   "name": "python3"
  },
  "language_info": {
   "codemirror_mode": {
    "name": "ipython",
    "version": 3
   },
   "file_extension": ".py",
   "mimetype": "text/x-python",
   "name": "python",
   "nbconvert_exporter": "python",
   "pygments_lexer": "ipython3",
   "version": "3.9.7"
  }
 },
 "nbformat": 4,
 "nbformat_minor": 2
}
